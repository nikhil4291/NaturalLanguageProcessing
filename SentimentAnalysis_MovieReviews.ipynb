{
 "cells": [
  {
   "cell_type": "code",
   "execution_count": 2,
   "id": "292d4163",
   "metadata": {},
   "outputs": [],
   "source": [
    "import pandas as pd\n",
    "import numpy as np\n",
    "import os"
   ]
  },
  {
   "cell_type": "markdown",
   "id": "b71b9b9d",
   "metadata": {},
   "source": [
    "#### Data Load/Acquisition"
   ]
  },
  {
   "cell_type": "code",
   "execution_count": 3,
   "id": "b4fa7428",
   "metadata": {},
   "outputs": [],
   "source": [
    "temp_df=pd.read_csv('IMDB Dataset.csv')"
   ]
  },
  {
   "cell_type": "code",
   "execution_count": 4,
   "id": "35afa16b",
   "metadata": {},
   "outputs": [
    {
     "data": {
      "text/html": [
       "<div>\n",
       "<style scoped>\n",
       "    .dataframe tbody tr th:only-of-type {\n",
       "        vertical-align: middle;\n",
       "    }\n",
       "\n",
       "    .dataframe tbody tr th {\n",
       "        vertical-align: top;\n",
       "    }\n",
       "\n",
       "    .dataframe thead th {\n",
       "        text-align: right;\n",
       "    }\n",
       "</style>\n",
       "<table border=\"1\" class=\"dataframe\">\n",
       "  <thead>\n",
       "    <tr style=\"text-align: right;\">\n",
       "      <th></th>\n",
       "      <th>review</th>\n",
       "      <th>sentiment</th>\n",
       "    </tr>\n",
       "  </thead>\n",
       "  <tbody>\n",
       "    <tr>\n",
       "      <th>0</th>\n",
       "      <td>One of the other reviewers has mentioned that ...</td>\n",
       "      <td>positive</td>\n",
       "    </tr>\n",
       "    <tr>\n",
       "      <th>1</th>\n",
       "      <td>A wonderful little production. &lt;br /&gt;&lt;br /&gt;The...</td>\n",
       "      <td>positive</td>\n",
       "    </tr>\n",
       "    <tr>\n",
       "      <th>2</th>\n",
       "      <td>I thought this was a wonderful way to spend ti...</td>\n",
       "      <td>positive</td>\n",
       "    </tr>\n",
       "    <tr>\n",
       "      <th>3</th>\n",
       "      <td>Basically there's a family where a little boy ...</td>\n",
       "      <td>negative</td>\n",
       "    </tr>\n",
       "    <tr>\n",
       "      <th>4</th>\n",
       "      <td>Petter Mattei's \"Love in the Time of Money\" is...</td>\n",
       "      <td>positive</td>\n",
       "    </tr>\n",
       "  </tbody>\n",
       "</table>\n",
       "</div>"
      ],
      "text/plain": [
       "                                              review sentiment\n",
       "0  One of the other reviewers has mentioned that ...  positive\n",
       "1  A wonderful little production. <br /><br />The...  positive\n",
       "2  I thought this was a wonderful way to spend ti...  positive\n",
       "3  Basically there's a family where a little boy ...  negative\n",
       "4  Petter Mattei's \"Love in the Time of Money\" is...  positive"
      ]
     },
     "execution_count": 4,
     "metadata": {},
     "output_type": "execute_result"
    }
   ],
   "source": [
    "temp_df.head()"
   ]
  },
  {
   "cell_type": "code",
   "execution_count": 5,
   "id": "d75926d5",
   "metadata": {},
   "outputs": [
    {
     "data": {
      "text/plain": [
       "(50000, 2)"
      ]
     },
     "execution_count": 5,
     "metadata": {},
     "output_type": "execute_result"
    }
   ],
   "source": [
    "temp_df.shape"
   ]
  },
  {
   "cell_type": "code",
   "execution_count": 6,
   "id": "90ef8950",
   "metadata": {},
   "outputs": [],
   "source": [
    "temp_df=temp_df.iloc[:10000]"
   ]
  },
  {
   "cell_type": "code",
   "execution_count": 7,
   "id": "8933348f",
   "metadata": {},
   "outputs": [
    {
     "data": {
      "text/plain": [
       "(10000, 2)"
      ]
     },
     "execution_count": 7,
     "metadata": {},
     "output_type": "execute_result"
    }
   ],
   "source": [
    "temp_df.shape"
   ]
  },
  {
   "cell_type": "code",
   "execution_count": 8,
   "id": "e1743f93",
   "metadata": {},
   "outputs": [
    {
     "data": {
      "text/plain": [
       "'Petter Mattei\\'s \"Love in the Time of Money\" is a visually stunning film to watch. Mr. Mattei offers us a vivid portrait about human relations. This is a movie that seems to be telling us what money, power and success do to people in the different situations we encounter. <br /><br />This being a variation on the Arthur Schnitzler\\'s play about the same theme, the director transfers the action to the present time New York where all these different characters meet and connect. Each one is connected in one way, or another to the next person, but no one seems to know the previous point of contact. Stylishly, the film has a sophisticated luxurious look. We are taken to see how these people live and the world they live in their own habitat.<br /><br />The only thing one gets out of all these souls in the picture is the different stages of loneliness each one inhabits. A big city is not exactly the best place in which human relations find sincere fulfillment, as one discerns is the case with most of the people we encounter.<br /><br />The acting is good under Mr. Mattei\\'s direction. Steve Buscemi, Rosario Dawson, Carol Kane, Michael Imperioli, Adrian Grenier, and the rest of the talented cast, make these characters come alive.<br /><br />We wish Mr. Mattei good luck and await anxiously for his next work.'"
      ]
     },
     "execution_count": 8,
     "metadata": {},
     "output_type": "execute_result"
    }
   ],
   "source": [
    "temp_df['review'][4]"
   ]
  },
  {
   "cell_type": "code",
   "execution_count": 9,
   "id": "649d69df",
   "metadata": {},
   "outputs": [
    {
     "data": {
      "text/plain": [
       "sentiment\n",
       "positive    5028\n",
       "negative    4972\n",
       "Name: count, dtype: int64"
      ]
     },
     "execution_count": 9,
     "metadata": {},
     "output_type": "execute_result"
    }
   ],
   "source": [
    "# class distribution\n",
    "temp_df['sentiment'].value_counts()"
   ]
  },
  {
   "cell_type": "code",
   "execution_count": 10,
   "id": "6bc7cc9d",
   "metadata": {},
   "outputs": [
    {
     "data": {
      "text/plain": [
       "review       0\n",
       "sentiment    0\n",
       "dtype: int64"
      ]
     },
     "execution_count": 10,
     "metadata": {},
     "output_type": "execute_result"
    }
   ],
   "source": [
    "# checking null values\n",
    "temp_df.isnull().sum()"
   ]
  },
  {
   "cell_type": "code",
   "execution_count": 11,
   "id": "170f14e1",
   "metadata": {},
   "outputs": [
    {
     "data": {
      "text/plain": [
       "17"
      ]
     },
     "execution_count": 11,
     "metadata": {},
     "output_type": "execute_result"
    }
   ],
   "source": [
    "# checking duplicate reviews\n",
    "temp_df.duplicated().sum()"
   ]
  },
  {
   "cell_type": "code",
   "execution_count": 12,
   "id": "201d786d",
   "metadata": {},
   "outputs": [],
   "source": [
    "#dropping duplicate reviews\n",
    "temp_df.drop_duplicates(inplace=True)"
   ]
  },
  {
   "cell_type": "code",
   "execution_count": 13,
   "id": "221f6d52",
   "metadata": {},
   "outputs": [
    {
     "data": {
      "text/plain": [
       "0"
      ]
     },
     "execution_count": 13,
     "metadata": {},
     "output_type": "execute_result"
    }
   ],
   "source": [
    "# checking again duplicate reviews\n",
    "temp_df.duplicated().sum()"
   ]
  },
  {
   "cell_type": "markdown",
   "id": "b17884a4",
   "metadata": {},
   "source": [
    "#### Text Preprocesssing"
   ]
  },
  {
   "cell_type": "code",
   "execution_count": 14,
   "id": "21fa9b03",
   "metadata": {},
   "outputs": [],
   "source": [
    "# basic text preprocessing\n",
    "# 1. removing html tags\n",
    "\n",
    "import re\n",
    "\n",
    "def remove_tags(text):\n",
    "    cleaned_text=re.sub(re.compile('<.*?>'),'',text)\n",
    "    return cleaned_text"
   ]
  },
  {
   "cell_type": "code",
   "execution_count": 15,
   "id": "b12597ac",
   "metadata": {},
   "outputs": [
    {
     "data": {
      "text/plain": [
       "\"One of the other reviewers has mentioned that after watching just 1 Oz episode you'll be hooked. They are right, as this is exactly what happened with me.<br /><br />The first thing that struck me about Oz was its brutality and unflinching scenes of violence, which set in right from the word GO. Trust me, this is not a show for the faint hearted or timid. This show pulls no punches with regards to drugs, sex or violence. Its is hardcore, in the classic use of the word.<br /><br />It is called OZ as that is the nickname given to the Oswald Maximum Security State Penitentary. It focuses mainly on Emerald City, an experimental section of the prison where all the cells have glass fronts and face inwards, so privacy is not high on the agenda. Em City is home to many..Aryans, Muslims, gangstas, Latinos, Christians, Italians, Irish and more....so scuffles, death stares, dodgy dealings and shady agreements are never far away.<br /><br />I would say the main appeal of the show is due to the fact that it goes where other shows wouldn't dare. Forget pretty pictures painted for mainstream audiences, forget charm, forget romance...OZ doesn't mess around. The first episode I ever saw struck me as so nasty it was surreal, I couldn't say I was ready for it, but as I watched more, I developed a taste for Oz, and got accustomed to the high levels of graphic violence. Not just violence, but injustice (crooked guards who'll be sold out for a nickel, inmates who'll kill on order and get away with it, well mannered, middle class inmates being turned into prison bitches due to their lack of street skills or prison experience) Watching Oz, you may become comfortable with what is uncomfortable viewing....thats if you can get in touch with your darker side.\""
      ]
     },
     "execution_count": 15,
     "metadata": {},
     "output_type": "execute_result"
    }
   ],
   "source": [
    "temp_df['review'][0]"
   ]
  },
  {
   "cell_type": "code",
   "execution_count": 16,
   "id": "98750e8c",
   "metadata": {},
   "outputs": [],
   "source": [
    "temp_df['review']=temp_df['review'].apply(remove_tags)"
   ]
  },
  {
   "cell_type": "code",
   "execution_count": 17,
   "id": "de4f1134",
   "metadata": {},
   "outputs": [
    {
     "data": {
      "text/plain": [
       "\"One of the other reviewers has mentioned that after watching just 1 Oz episode you'll be hooked. They are right, as this is exactly what happened with me.The first thing that struck me about Oz was its brutality and unflinching scenes of violence, which set in right from the word GO. Trust me, this is not a show for the faint hearted or timid. This show pulls no punches with regards to drugs, sex or violence. Its is hardcore, in the classic use of the word.It is called OZ as that is the nickname given to the Oswald Maximum Security State Penitentary. It focuses mainly on Emerald City, an experimental section of the prison where all the cells have glass fronts and face inwards, so privacy is not high on the agenda. Em City is home to many..Aryans, Muslims, gangstas, Latinos, Christians, Italians, Irish and more....so scuffles, death stares, dodgy dealings and shady agreements are never far away.I would say the main appeal of the show is due to the fact that it goes where other shows wouldn't dare. Forget pretty pictures painted for mainstream audiences, forget charm, forget romance...OZ doesn't mess around. The first episode I ever saw struck me as so nasty it was surreal, I couldn't say I was ready for it, but as I watched more, I developed a taste for Oz, and got accustomed to the high levels of graphic violence. Not just violence, but injustice (crooked guards who'll be sold out for a nickel, inmates who'll kill on order and get away with it, well mannered, middle class inmates being turned into prison bitches due to their lack of street skills or prison experience) Watching Oz, you may become comfortable with what is uncomfortable viewing....thats if you can get in touch with your darker side.\""
      ]
     },
     "execution_count": 17,
     "metadata": {},
     "output_type": "execute_result"
    }
   ],
   "source": [
    "temp_df['review'][0]"
   ]
  },
  {
   "cell_type": "code",
   "execution_count": 18,
   "id": "01387917",
   "metadata": {},
   "outputs": [],
   "source": [
    "# basic text preprocessing\n",
    "# 2. Converting text into lower case\n",
    "\n",
    "temp_df['review']=temp_df['review'].apply(lambda x:x.lower())"
   ]
  },
  {
   "cell_type": "code",
   "execution_count": 19,
   "id": "9b396d25",
   "metadata": {},
   "outputs": [
    {
     "data": {
      "text/plain": [
       "\"one of the other reviewers has mentioned that after watching just 1 oz episode you'll be hooked. they are right, as this is exactly what happened with me.the first thing that struck me about oz was its brutality and unflinching scenes of violence, which set in right from the word go. trust me, this is not a show for the faint hearted or timid. this show pulls no punches with regards to drugs, sex or violence. its is hardcore, in the classic use of the word.it is called oz as that is the nickname given to the oswald maximum security state penitentary. it focuses mainly on emerald city, an experimental section of the prison where all the cells have glass fronts and face inwards, so privacy is not high on the agenda. em city is home to many..aryans, muslims, gangstas, latinos, christians, italians, irish and more....so scuffles, death stares, dodgy dealings and shady agreements are never far away.i would say the main appeal of the show is due to the fact that it goes where other shows wouldn't dare. forget pretty pictures painted for mainstream audiences, forget charm, forget romance...oz doesn't mess around. the first episode i ever saw struck me as so nasty it was surreal, i couldn't say i was ready for it, but as i watched more, i developed a taste for oz, and got accustomed to the high levels of graphic violence. not just violence, but injustice (crooked guards who'll be sold out for a nickel, inmates who'll kill on order and get away with it, well mannered, middle class inmates being turned into prison bitches due to their lack of street skills or prison experience) watching oz, you may become comfortable with what is uncomfortable viewing....thats if you can get in touch with your darker side.\""
      ]
     },
     "execution_count": 19,
     "metadata": {},
     "output_type": "execute_result"
    }
   ],
   "source": [
    "temp_df['review'][0]"
   ]
  },
  {
   "cell_type": "code",
   "execution_count": 20,
   "id": "a7fbb4bb",
   "metadata": {},
   "outputs": [],
   "source": [
    "# basic text preprocessing\n",
    "# 3. removing stopwords\n",
    "\n",
    "import nltk\n",
    "from nltk.corpus import stopwords"
   ]
  },
  {
   "cell_type": "code",
   "execution_count": 21,
   "id": "86e42a5a",
   "metadata": {},
   "outputs": [],
   "source": [
    "stopword_list=stopwords.words('english')"
   ]
  },
  {
   "cell_type": "code",
   "execution_count": 22,
   "id": "6f7c36dc",
   "metadata": {},
   "outputs": [],
   "source": [
    "temp_df['review']=temp_df['review'].apply(lambda x:[i for i in x.split() if i not in stopword_list]).apply(lambda x:\" \".join(x))"
   ]
  },
  {
   "cell_type": "code",
   "execution_count": 23,
   "id": "560f1735",
   "metadata": {},
   "outputs": [
    {
     "data": {
      "text/plain": [
       "\"one reviewers mentioned watching 1 oz episode hooked. right, exactly happened me.the first thing struck oz brutality unflinching scenes violence, set right word go. trust me, show faint hearted timid. show pulls punches regards drugs, sex violence. hardcore, classic use word.it called oz nickname given oswald maximum security state penitentary. focuses mainly emerald city, experimental section prison cells glass fronts face inwards, privacy high agenda. em city home many..aryans, muslims, gangstas, latinos, christians, italians, irish more....so scuffles, death stares, dodgy dealings shady agreements never far away.i would say main appeal show due fact goes shows dare. forget pretty pictures painted mainstream audiences, forget charm, forget romance...oz mess around. first episode ever saw struck nasty surreal, say ready it, watched more, developed taste oz, got accustomed high levels graphic violence. violence, injustice (crooked guards who'll sold nickel, inmates who'll kill order get away it, well mannered, middle class inmates turned prison bitches due lack street skills prison experience) watching oz, may become comfortable uncomfortable viewing....thats get touch darker side.\""
      ]
     },
     "execution_count": 23,
     "metadata": {},
     "output_type": "execute_result"
    }
   ],
   "source": [
    "temp_df['review'][0]"
   ]
  },
  {
   "cell_type": "code",
   "execution_count": 24,
   "id": "335cebea",
   "metadata": {},
   "outputs": [],
   "source": [
    "# basic text preprocessing\n",
    "# 4. removing punctuations\n",
    "\n",
    "import string"
   ]
  },
  {
   "cell_type": "code",
   "execution_count": 25,
   "id": "2067d7d6",
   "metadata": {},
   "outputs": [
    {
     "data": {
      "text/plain": [
       "'!\"#$%&\\'()*+,-./:;<=>?@[\\\\]^_`{|}~'"
      ]
     },
     "execution_count": 25,
     "metadata": {},
     "output_type": "execute_result"
    }
   ],
   "source": [
    "string.punctuation"
   ]
  },
  {
   "cell_type": "code",
   "execution_count": 26,
   "id": "cb0bca93",
   "metadata": {},
   "outputs": [],
   "source": [
    "exclude=string.punctuation\n",
    "def remove_punctuation(text):\n",
    "    return text.translate(str.maketrans('','',exclude))"
   ]
  },
  {
   "cell_type": "code",
   "execution_count": 27,
   "id": "b543a045",
   "metadata": {},
   "outputs": [],
   "source": [
    "temp_df['review']=temp_df['review'].apply(remove_punctuation)"
   ]
  },
  {
   "cell_type": "code",
   "execution_count": 28,
   "id": "bd653202",
   "metadata": {},
   "outputs": [
    {
     "data": {
      "text/plain": [
       "'one reviewers mentioned watching 1 oz episode hooked right exactly happened methe first thing struck oz brutality unflinching scenes violence set right word go trust me show faint hearted timid show pulls punches regards drugs sex violence hardcore classic use wordit called oz nickname given oswald maximum security state penitentary focuses mainly emerald city experimental section prison cells glass fronts face inwards privacy high agenda em city home manyaryans muslims gangstas latinos christians italians irish moreso scuffles death stares dodgy dealings shady agreements never far awayi would say main appeal show due fact goes shows dare forget pretty pictures painted mainstream audiences forget charm forget romanceoz mess around first episode ever saw struck nasty surreal say ready it watched more developed taste oz got accustomed high levels graphic violence violence injustice crooked guards wholl sold nickel inmates wholl kill order get away it well mannered middle class inmates turned prison bitches due lack street skills prison experience watching oz may become comfortable uncomfortable viewingthats get touch darker side'"
      ]
     },
     "execution_count": 28,
     "metadata": {},
     "output_type": "execute_result"
    }
   ],
   "source": [
    "temp_df['review'][0]"
   ]
  },
  {
   "cell_type": "code",
   "execution_count": 29,
   "id": "ba286ced",
   "metadata": {},
   "outputs": [],
   "source": [
    "# basic text preprocessing\n",
    "# 5. Stemming\n",
    "\n",
    "from nltk.stem.porter import PorterStemmer\n",
    "\n",
    "ps=PorterStemmer()\n",
    "\n",
    "def stem_words(text):\n",
    "    return \" \".join ([ps.stem(i) for i in text.split()])"
   ]
  },
  {
   "cell_type": "code",
   "execution_count": 30,
   "id": "75004f67",
   "metadata": {},
   "outputs": [],
   "source": [
    "temp_df['review']=temp_df['review'].apply(stem_words)"
   ]
  },
  {
   "cell_type": "code",
   "execution_count": 31,
   "id": "2102b0d3",
   "metadata": {},
   "outputs": [
    {
     "data": {
      "text/plain": [
       "'one review mention watch 1 oz episod hook right exactli happen meth first thing struck oz brutal unflinch scene violenc set right word go trust me show faint heart timid show pull punch regard drug sex violenc hardcor classic use wordit call oz nicknam given oswald maximum secur state penitentari focus mainli emerald citi experiment section prison cell glass front face inward privaci high agenda em citi home manyaryan muslim gangsta latino christian italian irish moreso scuffl death stare dodgi deal shadi agreement never far awayi would say main appeal show due fact goe show dare forget pretti pictur paint mainstream audienc forget charm forget romanceoz mess around first episod ever saw struck nasti surreal say readi it watch more develop tast oz got accustom high level graphic violenc violenc injustic crook guard wholl sold nickel inmat wholl kill order get away it well manner middl class inmat turn prison bitch due lack street skill prison experi watch oz may becom comfort uncomfort viewingthat get touch darker side'"
      ]
     },
     "execution_count": 31,
     "metadata": {},
     "output_type": "execute_result"
    }
   ],
   "source": [
    "temp_df['review'][0]"
   ]
  },
  {
   "cell_type": "code",
   "execution_count": 32,
   "id": "836a5818",
   "metadata": {},
   "outputs": [],
   "source": [
    "temp_X=temp_df.iloc[:,0:1]\n",
    "temp_y=temp_df['sentiment']"
   ]
  },
  {
   "cell_type": "code",
   "execution_count": 33,
   "id": "d213dd92",
   "metadata": {},
   "outputs": [
    {
     "data": {
      "text/html": [
       "<div>\n",
       "<style scoped>\n",
       "    .dataframe tbody tr th:only-of-type {\n",
       "        vertical-align: middle;\n",
       "    }\n",
       "\n",
       "    .dataframe tbody tr th {\n",
       "        vertical-align: top;\n",
       "    }\n",
       "\n",
       "    .dataframe thead th {\n",
       "        text-align: right;\n",
       "    }\n",
       "</style>\n",
       "<table border=\"1\" class=\"dataframe\">\n",
       "  <thead>\n",
       "    <tr style=\"text-align: right;\">\n",
       "      <th></th>\n",
       "      <th>review</th>\n",
       "    </tr>\n",
       "  </thead>\n",
       "  <tbody>\n",
       "    <tr>\n",
       "      <th>0</th>\n",
       "      <td>one review mention watch 1 oz episod hook righ...</td>\n",
       "    </tr>\n",
       "    <tr>\n",
       "      <th>1</th>\n",
       "      <td>wonder littl product film techniqu unassum old...</td>\n",
       "    </tr>\n",
       "    <tr>\n",
       "      <th>2</th>\n",
       "      <td>thought wonder way spend time hot summer weeke...</td>\n",
       "    </tr>\n",
       "    <tr>\n",
       "      <th>3</th>\n",
       "      <td>basic there famili littl boy jake think there ...</td>\n",
       "    </tr>\n",
       "    <tr>\n",
       "      <th>4</th>\n",
       "      <td>petter mattei love time money visual stun film...</td>\n",
       "    </tr>\n",
       "  </tbody>\n",
       "</table>\n",
       "</div>"
      ],
      "text/plain": [
       "                                              review\n",
       "0  one review mention watch 1 oz episod hook righ...\n",
       "1  wonder littl product film techniqu unassum old...\n",
       "2  thought wonder way spend time hot summer weeke...\n",
       "3  basic there famili littl boy jake think there ...\n",
       "4  petter mattei love time money visual stun film..."
      ]
     },
     "execution_count": 33,
     "metadata": {},
     "output_type": "execute_result"
    }
   ],
   "source": [
    "temp_X.head()"
   ]
  },
  {
   "cell_type": "code",
   "execution_count": 34,
   "id": "81a680d8",
   "metadata": {},
   "outputs": [
    {
     "data": {
      "text/plain": [
       "0    positive\n",
       "1    positive\n",
       "2    positive\n",
       "3    negative\n",
       "4    positive\n",
       "Name: sentiment, dtype: object"
      ]
     },
     "execution_count": 34,
     "metadata": {},
     "output_type": "execute_result"
    }
   ],
   "source": [
    "temp_y.head()"
   ]
  },
  {
   "cell_type": "code",
   "execution_count": 35,
   "id": "4f764b85",
   "metadata": {},
   "outputs": [],
   "source": [
    "#since temp_y is in english. Converting it into number for the ease of modeling\n",
    "\n",
    "from sklearn.preprocessing import LabelEncoder\n",
    "\n",
    "encoder=LabelEncoder()\n",
    "\n",
    "temp_y=encoder.fit_transform(temp_y)"
   ]
  },
  {
   "cell_type": "code",
   "execution_count": 36,
   "id": "d54bcf0c",
   "metadata": {},
   "outputs": [
    {
     "data": {
      "text/plain": [
       "array([1, 1, 1, ..., 0, 0, 1])"
      ]
     },
     "execution_count": 36,
     "metadata": {},
     "output_type": "execute_result"
    }
   ],
   "source": [
    "temp_y"
   ]
  },
  {
   "cell_type": "code",
   "execution_count": 37,
   "id": "d4845526",
   "metadata": {},
   "outputs": [],
   "source": [
    "#Spliting the data into train and test\n",
    "\n",
    "from sklearn.model_selection import train_test_split\n",
    "Xtrain, Xtest,ytrain, ytest=train_test_split(temp_X,temp_y, test_size=0.2, random_state=1)\n"
   ]
  },
  {
   "cell_type": "code",
   "execution_count": 38,
   "id": "ede63135",
   "metadata": {},
   "outputs": [
    {
     "data": {
      "text/plain": [
       "(7986, 1)"
      ]
     },
     "execution_count": 38,
     "metadata": {},
     "output_type": "execute_result"
    }
   ],
   "source": [
    "Xtrain.shape"
   ]
  },
  {
   "cell_type": "code",
   "execution_count": 39,
   "id": "d8153aa3",
   "metadata": {},
   "outputs": [
    {
     "data": {
      "text/plain": [
       "(1997, 1)"
      ]
     },
     "execution_count": 39,
     "metadata": {},
     "output_type": "execute_result"
    }
   ],
   "source": [
    "Xtest.shape"
   ]
  },
  {
   "cell_type": "code",
   "execution_count": 40,
   "id": "d7894547",
   "metadata": {},
   "outputs": [
    {
     "data": {
      "text/plain": [
       "array([1, 1, 0, ..., 0, 0, 1])"
      ]
     },
     "execution_count": 40,
     "metadata": {},
     "output_type": "execute_result"
    }
   ],
   "source": [
    "ytrain"
   ]
  },
  {
   "cell_type": "code",
   "execution_count": 41,
   "id": "72642739",
   "metadata": {},
   "outputs": [
    {
     "data": {
      "text/html": [
       "<div>\n",
       "<style scoped>\n",
       "    .dataframe tbody tr th:only-of-type {\n",
       "        vertical-align: middle;\n",
       "    }\n",
       "\n",
       "    .dataframe tbody tr th {\n",
       "        vertical-align: top;\n",
       "    }\n",
       "\n",
       "    .dataframe thead th {\n",
       "        text-align: right;\n",
       "    }\n",
       "</style>\n",
       "<table border=\"1\" class=\"dataframe\">\n",
       "  <thead>\n",
       "    <tr style=\"text-align: right;\">\n",
       "      <th></th>\n",
       "      <th>review</th>\n",
       "    </tr>\n",
       "  </thead>\n",
       "  <tbody>\n",
       "    <tr>\n",
       "      <th>6713</th>\n",
       "      <td>ive wait superhero movi like long time mysteri...</td>\n",
       "    </tr>\n",
       "    <tr>\n",
       "      <th>1178</th>\n",
       "      <td>movi excel act excel direct overal excel stori...</td>\n",
       "    </tr>\n",
       "    <tr>\n",
       "      <th>4707</th>\n",
       "      <td>movi make want throw everi time see it take fi...</td>\n",
       "    </tr>\n",
       "    <tr>\n",
       "      <th>6772</th>\n",
       "      <td>first saw movi elementari school back 1960 fas...</td>\n",
       "    </tr>\n",
       "    <tr>\n",
       "      <th>7461</th>\n",
       "      <td>show made person iq lower 80 joke show lame de...</td>\n",
       "    </tr>\n",
       "    <tr>\n",
       "      <th>...</th>\n",
       "      <td>...</td>\n",
       "    </tr>\n",
       "    <tr>\n",
       "      <th>2895</th>\n",
       "      <td>excel episod movi ala pulp fiction 7 day 7 sui...</td>\n",
       "    </tr>\n",
       "    <tr>\n",
       "      <th>7823</th>\n",
       "      <td>first off give idea tast movies2007 comedi enj...</td>\n",
       "    </tr>\n",
       "    <tr>\n",
       "      <th>905</th>\n",
       "      <td>well begin stori went movi tonight friend know...</td>\n",
       "    </tr>\n",
       "    <tr>\n",
       "      <th>5195</th>\n",
       "      <td>lot horror fan seem love scarecrow popular say...</td>\n",
       "    </tr>\n",
       "    <tr>\n",
       "      <th>235</th>\n",
       "      <td>rees witherspoon first outing big screen memor...</td>\n",
       "    </tr>\n",
       "  </tbody>\n",
       "</table>\n",
       "<p>7986 rows × 1 columns</p>\n",
       "</div>"
      ],
      "text/plain": [
       "                                                 review\n",
       "6713  ive wait superhero movi like long time mysteri...\n",
       "1178  movi excel act excel direct overal excel stori...\n",
       "4707  movi make want throw everi time see it take fi...\n",
       "6772  first saw movi elementari school back 1960 fas...\n",
       "7461  show made person iq lower 80 joke show lame de...\n",
       "...                                                 ...\n",
       "2895  excel episod movi ala pulp fiction 7 day 7 sui...\n",
       "7823  first off give idea tast movies2007 comedi enj...\n",
       "905   well begin stori went movi tonight friend know...\n",
       "5195  lot horror fan seem love scarecrow popular say...\n",
       "235   rees witherspoon first outing big screen memor...\n",
       "\n",
       "[7986 rows x 1 columns]"
      ]
     },
     "execution_count": 41,
     "metadata": {},
     "output_type": "execute_result"
    }
   ],
   "source": [
    "Xtrain"
   ]
  },
  {
   "cell_type": "markdown",
   "id": "525cc830",
   "metadata": {},
   "source": [
    "#### Text Vectorization"
   ]
  },
  {
   "cell_type": "markdown",
   "id": "b49e23a0",
   "metadata": {},
   "source": [
    "##### Bag of Words"
   ]
  },
  {
   "cell_type": "code",
   "execution_count": 42,
   "id": "fd10e1f1",
   "metadata": {},
   "outputs": [],
   "source": [
    "from sklearn.feature_extraction.text import CountVectorizer"
   ]
  },
  {
   "cell_type": "code",
   "execution_count": 43,
   "id": "184cf30c",
   "metadata": {},
   "outputs": [],
   "source": [
    "cv=CountVectorizer()"
   ]
  },
  {
   "cell_type": "code",
   "execution_count": 44,
   "id": "309e244d",
   "metadata": {},
   "outputs": [],
   "source": [
    "X_train_bow = cv.fit_transform(Xtrain['review']).toarray()\n",
    "X_test_bow = cv.transform(Xtest['review']).toarray()\n",
    "\n",
    "\n",
    "#cv_train  = cv.fit_transform(X_train)\n",
    "#cv_test = cv.transform(X_test)"
   ]
  },
  {
   "cell_type": "code",
   "execution_count": 45,
   "id": "f69a3df3",
   "metadata": {},
   "outputs": [
    {
     "data": {
      "text/plain": [
       "(7986, 55213)"
      ]
     },
     "execution_count": 45,
     "metadata": {},
     "output_type": "execute_result"
    }
   ],
   "source": [
    "X_train_bow.shape"
   ]
  },
  {
   "cell_type": "code",
   "execution_count": 46,
   "id": "3a7c374c",
   "metadata": {},
   "outputs": [
    {
     "data": {
      "text/plain": [
       "array([[0, 0, 0, ..., 0, 0, 0],\n",
       "       [0, 0, 0, ..., 0, 0, 0],\n",
       "       [0, 0, 0, ..., 0, 0, 0],\n",
       "       ...,\n",
       "       [0, 0, 0, ..., 0, 0, 0],\n",
       "       [0, 0, 0, ..., 0, 0, 0],\n",
       "       [0, 0, 0, ..., 0, 0, 0]], dtype=int64)"
      ]
     },
     "execution_count": 46,
     "metadata": {},
     "output_type": "execute_result"
    }
   ],
   "source": [
    "X_train_bow"
   ]
  },
  {
   "cell_type": "code",
   "execution_count": 47,
   "id": "bcee7b69",
   "metadata": {},
   "outputs": [
    {
     "data": {
      "text/plain": [
       "array([[0, 0, 0, ..., 0, 0, 0],\n",
       "       [0, 0, 0, ..., 0, 0, 0],\n",
       "       [0, 0, 0, ..., 0, 0, 0],\n",
       "       ...,\n",
       "       [0, 0, 0, ..., 0, 0, 0],\n",
       "       [0, 0, 0, ..., 0, 0, 0],\n",
       "       [0, 0, 0, ..., 0, 0, 0]], dtype=int64)"
      ]
     },
     "execution_count": 47,
     "metadata": {},
     "output_type": "execute_result"
    }
   ],
   "source": [
    "X_test_bow"
   ]
  },
  {
   "cell_type": "markdown",
   "id": "5e4521cf",
   "metadata": {},
   "source": [
    "#### Data Modelling"
   ]
  },
  {
   "cell_type": "markdown",
   "id": "8d837e7f",
   "metadata": {},
   "source": [
    "##### Naive Bayes"
   ]
  },
  {
   "cell_type": "code",
   "execution_count": 48,
   "id": "269c9c64",
   "metadata": {},
   "outputs": [
    {
     "data": {
      "text/html": [
       "<style>#sk-container-id-1 {color: black;}#sk-container-id-1 pre{padding: 0;}#sk-container-id-1 div.sk-toggleable {background-color: white;}#sk-container-id-1 label.sk-toggleable__label {cursor: pointer;display: block;width: 100%;margin-bottom: 0;padding: 0.3em;box-sizing: border-box;text-align: center;}#sk-container-id-1 label.sk-toggleable__label-arrow:before {content: \"▸\";float: left;margin-right: 0.25em;color: #696969;}#sk-container-id-1 label.sk-toggleable__label-arrow:hover:before {color: black;}#sk-container-id-1 div.sk-estimator:hover label.sk-toggleable__label-arrow:before {color: black;}#sk-container-id-1 div.sk-toggleable__content {max-height: 0;max-width: 0;overflow: hidden;text-align: left;background-color: #f0f8ff;}#sk-container-id-1 div.sk-toggleable__content pre {margin: 0.2em;color: black;border-radius: 0.25em;background-color: #f0f8ff;}#sk-container-id-1 input.sk-toggleable__control:checked~div.sk-toggleable__content {max-height: 200px;max-width: 100%;overflow: auto;}#sk-container-id-1 input.sk-toggleable__control:checked~label.sk-toggleable__label-arrow:before {content: \"▾\";}#sk-container-id-1 div.sk-estimator input.sk-toggleable__control:checked~label.sk-toggleable__label {background-color: #d4ebff;}#sk-container-id-1 div.sk-label input.sk-toggleable__control:checked~label.sk-toggleable__label {background-color: #d4ebff;}#sk-container-id-1 input.sk-hidden--visually {border: 0;clip: rect(1px 1px 1px 1px);clip: rect(1px, 1px, 1px, 1px);height: 1px;margin: -1px;overflow: hidden;padding: 0;position: absolute;width: 1px;}#sk-container-id-1 div.sk-estimator {font-family: monospace;background-color: #f0f8ff;border: 1px dotted black;border-radius: 0.25em;box-sizing: border-box;margin-bottom: 0.5em;}#sk-container-id-1 div.sk-estimator:hover {background-color: #d4ebff;}#sk-container-id-1 div.sk-parallel-item::after {content: \"\";width: 100%;border-bottom: 1px solid gray;flex-grow: 1;}#sk-container-id-1 div.sk-label:hover label.sk-toggleable__label {background-color: #d4ebff;}#sk-container-id-1 div.sk-serial::before {content: \"\";position: absolute;border-left: 1px solid gray;box-sizing: border-box;top: 0;bottom: 0;left: 50%;z-index: 0;}#sk-container-id-1 div.sk-serial {display: flex;flex-direction: column;align-items: center;background-color: white;padding-right: 0.2em;padding-left: 0.2em;position: relative;}#sk-container-id-1 div.sk-item {position: relative;z-index: 1;}#sk-container-id-1 div.sk-parallel {display: flex;align-items: stretch;justify-content: center;background-color: white;position: relative;}#sk-container-id-1 div.sk-item::before, #sk-container-id-1 div.sk-parallel-item::before {content: \"\";position: absolute;border-left: 1px solid gray;box-sizing: border-box;top: 0;bottom: 0;left: 50%;z-index: -1;}#sk-container-id-1 div.sk-parallel-item {display: flex;flex-direction: column;z-index: 1;position: relative;background-color: white;}#sk-container-id-1 div.sk-parallel-item:first-child::after {align-self: flex-end;width: 50%;}#sk-container-id-1 div.sk-parallel-item:last-child::after {align-self: flex-start;width: 50%;}#sk-container-id-1 div.sk-parallel-item:only-child::after {width: 0;}#sk-container-id-1 div.sk-dashed-wrapped {border: 1px dashed gray;margin: 0 0.4em 0.5em 0.4em;box-sizing: border-box;padding-bottom: 0.4em;background-color: white;}#sk-container-id-1 div.sk-label label {font-family: monospace;font-weight: bold;display: inline-block;line-height: 1.2em;}#sk-container-id-1 div.sk-label-container {text-align: center;}#sk-container-id-1 div.sk-container {/* jupyter's `normalize.less` sets `[hidden] { display: none; }` but bootstrap.min.css set `[hidden] { display: none !important; }` so we also need the `!important` here to be able to override the default hidden behavior on the sphinx rendered scikit-learn.org. See: https://github.com/scikit-learn/scikit-learn/issues/21755 */display: inline-block !important;position: relative;}#sk-container-id-1 div.sk-text-repr-fallback {display: none;}</style><div id=\"sk-container-id-1\" class=\"sk-top-container\"><div class=\"sk-text-repr-fallback\"><pre>GaussianNB()</pre><b>In a Jupyter environment, please rerun this cell to show the HTML representation or trust the notebook. <br />On GitHub, the HTML representation is unable to render, please try loading this page with nbviewer.org.</b></div><div class=\"sk-container\" hidden><div class=\"sk-item\"><div class=\"sk-estimator sk-toggleable\"><input class=\"sk-toggleable__control sk-hidden--visually\" id=\"sk-estimator-id-1\" type=\"checkbox\" checked><label for=\"sk-estimator-id-1\" class=\"sk-toggleable__label sk-toggleable__label-arrow\">GaussianNB</label><div class=\"sk-toggleable__content\"><pre>GaussianNB()</pre></div></div></div></div></div>"
      ],
      "text/plain": [
       "GaussianNB()"
      ]
     },
     "execution_count": 48,
     "metadata": {},
     "output_type": "execute_result"
    }
   ],
   "source": [
    "from sklearn.naive_bayes import GaussianNB\n",
    "gnb=GaussianNB()\n",
    "\n",
    "\n",
    "gnb.fit(X_train_bow,ytrain)"
   ]
  },
  {
   "cell_type": "code",
   "execution_count": 49,
   "id": "5ba1911c",
   "metadata": {},
   "outputs": [],
   "source": [
    "y_pred = gnb.predict(X_test_bow)"
   ]
  },
  {
   "cell_type": "code",
   "execution_count": 50,
   "id": "653f9439",
   "metadata": {},
   "outputs": [],
   "source": [
    "from sklearn.metrics import accuracy_score,confusion_matrix"
   ]
  },
  {
   "cell_type": "code",
   "execution_count": 51,
   "id": "8731f5cb",
   "metadata": {},
   "outputs": [
    {
     "data": {
      "text/plain": [
       "0.6464697045568353"
      ]
     },
     "execution_count": 51,
     "metadata": {},
     "output_type": "execute_result"
    }
   ],
   "source": [
    "accuracy_score(ytest,y_pred)"
   ]
  },
  {
   "cell_type": "code",
   "execution_count": 52,
   "id": "59dd0e7c",
   "metadata": {},
   "outputs": [
    {
     "data": {
      "text/plain": [
       "array([[681, 271],\n",
       "       [435, 610]], dtype=int64)"
      ]
     },
     "execution_count": 52,
     "metadata": {},
     "output_type": "execute_result"
    }
   ],
   "source": [
    "confusion_matrix(ytest,y_pred)"
   ]
  },
  {
   "cell_type": "markdown",
   "id": "fbde693e",
   "metadata": {},
   "source": [
    "##### Random Forest on BOW"
   ]
  },
  {
   "cell_type": "code",
   "execution_count": 53,
   "id": "fd8de606",
   "metadata": {},
   "outputs": [],
   "source": [
    "from sklearn.ensemble import RandomForestClassifier\n",
    "\n",
    "rf= RandomForestClassifier()"
   ]
  },
  {
   "cell_type": "code",
   "execution_count": 54,
   "id": "1df0616f",
   "metadata": {},
   "outputs": [
    {
     "data": {
      "text/html": [
       "<style>#sk-container-id-2 {color: black;}#sk-container-id-2 pre{padding: 0;}#sk-container-id-2 div.sk-toggleable {background-color: white;}#sk-container-id-2 label.sk-toggleable__label {cursor: pointer;display: block;width: 100%;margin-bottom: 0;padding: 0.3em;box-sizing: border-box;text-align: center;}#sk-container-id-2 label.sk-toggleable__label-arrow:before {content: \"▸\";float: left;margin-right: 0.25em;color: #696969;}#sk-container-id-2 label.sk-toggleable__label-arrow:hover:before {color: black;}#sk-container-id-2 div.sk-estimator:hover label.sk-toggleable__label-arrow:before {color: black;}#sk-container-id-2 div.sk-toggleable__content {max-height: 0;max-width: 0;overflow: hidden;text-align: left;background-color: #f0f8ff;}#sk-container-id-2 div.sk-toggleable__content pre {margin: 0.2em;color: black;border-radius: 0.25em;background-color: #f0f8ff;}#sk-container-id-2 input.sk-toggleable__control:checked~div.sk-toggleable__content {max-height: 200px;max-width: 100%;overflow: auto;}#sk-container-id-2 input.sk-toggleable__control:checked~label.sk-toggleable__label-arrow:before {content: \"▾\";}#sk-container-id-2 div.sk-estimator input.sk-toggleable__control:checked~label.sk-toggleable__label {background-color: #d4ebff;}#sk-container-id-2 div.sk-label input.sk-toggleable__control:checked~label.sk-toggleable__label {background-color: #d4ebff;}#sk-container-id-2 input.sk-hidden--visually {border: 0;clip: rect(1px 1px 1px 1px);clip: rect(1px, 1px, 1px, 1px);height: 1px;margin: -1px;overflow: hidden;padding: 0;position: absolute;width: 1px;}#sk-container-id-2 div.sk-estimator {font-family: monospace;background-color: #f0f8ff;border: 1px dotted black;border-radius: 0.25em;box-sizing: border-box;margin-bottom: 0.5em;}#sk-container-id-2 div.sk-estimator:hover {background-color: #d4ebff;}#sk-container-id-2 div.sk-parallel-item::after {content: \"\";width: 100%;border-bottom: 1px solid gray;flex-grow: 1;}#sk-container-id-2 div.sk-label:hover label.sk-toggleable__label {background-color: #d4ebff;}#sk-container-id-2 div.sk-serial::before {content: \"\";position: absolute;border-left: 1px solid gray;box-sizing: border-box;top: 0;bottom: 0;left: 50%;z-index: 0;}#sk-container-id-2 div.sk-serial {display: flex;flex-direction: column;align-items: center;background-color: white;padding-right: 0.2em;padding-left: 0.2em;position: relative;}#sk-container-id-2 div.sk-item {position: relative;z-index: 1;}#sk-container-id-2 div.sk-parallel {display: flex;align-items: stretch;justify-content: center;background-color: white;position: relative;}#sk-container-id-2 div.sk-item::before, #sk-container-id-2 div.sk-parallel-item::before {content: \"\";position: absolute;border-left: 1px solid gray;box-sizing: border-box;top: 0;bottom: 0;left: 50%;z-index: -1;}#sk-container-id-2 div.sk-parallel-item {display: flex;flex-direction: column;z-index: 1;position: relative;background-color: white;}#sk-container-id-2 div.sk-parallel-item:first-child::after {align-self: flex-end;width: 50%;}#sk-container-id-2 div.sk-parallel-item:last-child::after {align-self: flex-start;width: 50%;}#sk-container-id-2 div.sk-parallel-item:only-child::after {width: 0;}#sk-container-id-2 div.sk-dashed-wrapped {border: 1px dashed gray;margin: 0 0.4em 0.5em 0.4em;box-sizing: border-box;padding-bottom: 0.4em;background-color: white;}#sk-container-id-2 div.sk-label label {font-family: monospace;font-weight: bold;display: inline-block;line-height: 1.2em;}#sk-container-id-2 div.sk-label-container {text-align: center;}#sk-container-id-2 div.sk-container {/* jupyter's `normalize.less` sets `[hidden] { display: none; }` but bootstrap.min.css set `[hidden] { display: none !important; }` so we also need the `!important` here to be able to override the default hidden behavior on the sphinx rendered scikit-learn.org. See: https://github.com/scikit-learn/scikit-learn/issues/21755 */display: inline-block !important;position: relative;}#sk-container-id-2 div.sk-text-repr-fallback {display: none;}</style><div id=\"sk-container-id-2\" class=\"sk-top-container\"><div class=\"sk-text-repr-fallback\"><pre>RandomForestClassifier()</pre><b>In a Jupyter environment, please rerun this cell to show the HTML representation or trust the notebook. <br />On GitHub, the HTML representation is unable to render, please try loading this page with nbviewer.org.</b></div><div class=\"sk-container\" hidden><div class=\"sk-item\"><div class=\"sk-estimator sk-toggleable\"><input class=\"sk-toggleable__control sk-hidden--visually\" id=\"sk-estimator-id-2\" type=\"checkbox\" checked><label for=\"sk-estimator-id-2\" class=\"sk-toggleable__label sk-toggleable__label-arrow\">RandomForestClassifier</label><div class=\"sk-toggleable__content\"><pre>RandomForestClassifier()</pre></div></div></div></div></div>"
      ],
      "text/plain": [
       "RandomForestClassifier()"
      ]
     },
     "execution_count": 54,
     "metadata": {},
     "output_type": "execute_result"
    }
   ],
   "source": [
    "rf.fit(X_train_bow,ytrain)"
   ]
  },
  {
   "cell_type": "code",
   "execution_count": 55,
   "id": "930f96bc",
   "metadata": {},
   "outputs": [],
   "source": [
    "y_pred_rf=rf.predict(X_test_bow)"
   ]
  },
  {
   "cell_type": "code",
   "execution_count": 56,
   "id": "c868cf1a",
   "metadata": {},
   "outputs": [
    {
     "data": {
      "text/plain": [
       "0.8417626439659489"
      ]
     },
     "execution_count": 56,
     "metadata": {},
     "output_type": "execute_result"
    }
   ],
   "source": [
    "accuracy_score(ytest,y_pred_rf)"
   ]
  },
  {
   "cell_type": "code",
   "execution_count": 57,
   "id": "1330c35f",
   "metadata": {},
   "outputs": [
    {
     "data": {
      "text/plain": [
       "array([[802, 150],\n",
       "       [166, 879]], dtype=int64)"
      ]
     },
     "execution_count": 57,
     "metadata": {},
     "output_type": "execute_result"
    }
   ],
   "source": [
    "confusion_matrix(ytest,y_pred_rf)"
   ]
  },
  {
   "cell_type": "code",
   "execution_count": 58,
   "id": "fe750979",
   "metadata": {},
   "outputs": [
    {
     "data": {
      "text/plain": [
       "(7986, 55213)"
      ]
     },
     "execution_count": 58,
     "metadata": {},
     "output_type": "execute_result"
    }
   ],
   "source": [
    "# To improve the accuracy trying to use vocabulary's most frequent words rather than entire vocab\n",
    "# so we have 55213 words. \n",
    "# trying to use most frequent 3k words\n",
    "X_train_bow.shape"
   ]
  },
  {
   "cell_type": "code",
   "execution_count": 59,
   "id": "59350763",
   "metadata": {},
   "outputs": [],
   "source": [
    "cv_new=CountVectorizer(max_features=3000)\n",
    "\n",
    "X_train_bow_new = cv_new.fit_transform(Xtrain['review']).toarray()\n",
    "X_test_bow_new = cv_new.transform(Xtest['review']).toarray()\n",
    "\n",
    "rf_new=RandomForestClassifier()\n",
    "\n",
    "rf_new.fit(X_train_bow_new,ytrain)\n",
    "\n",
    "y_pred_rf_new=rf_new.predict(X_test_bow_new)"
   ]
  },
  {
   "cell_type": "code",
   "execution_count": 60,
   "id": "3b7d5251",
   "metadata": {},
   "outputs": [
    {
     "data": {
      "text/plain": [
       "0.8342513770655984"
      ]
     },
     "execution_count": 60,
     "metadata": {},
     "output_type": "execute_result"
    }
   ],
   "source": [
    "accuracy_score(ytest,y_pred_rf_new)"
   ]
  },
  {
   "cell_type": "code",
   "execution_count": 61,
   "id": "6cd8e0fb",
   "metadata": {},
   "outputs": [
    {
     "data": {
      "text/plain": [
       "array([[801, 151],\n",
       "       [180, 865]], dtype=int64)"
      ]
     },
     "execution_count": 61,
     "metadata": {},
     "output_type": "execute_result"
    }
   ],
   "source": [
    "confusion_matrix(ytest,y_pred_rf_new)"
   ]
  },
  {
   "cell_type": "markdown",
   "id": "46a0511c",
   "metadata": {},
   "source": [
    "##### Random Forest on nGrams"
   ]
  },
  {
   "cell_type": "code",
   "execution_count": 62,
   "id": "cddde4f6",
   "metadata": {},
   "outputs": [],
   "source": [
    "#Since without max feature the model was throwing 'memory error' as vocab for bi gram and tri gram has increased exponentially\n",
    "\n",
    "cv_ng=CountVectorizer(ngram_range=(1,2),max_features=10000)\n",
    "\n",
    "X_train_bow_ng = cv_ng.fit_transform(Xtrain['review']).toarray()\n",
    "X_test_bow_ng = cv_ng.transform(Xtest['review']).toarray()\n",
    "\n",
    "rf_ng=RandomForestClassifier()\n",
    "\n",
    "rf_ng.fit(X_train_bow_ng,ytrain)\n",
    "\n",
    "y_pred_rf_ng=rf_ng.predict(X_test_bow_ng)"
   ]
  },
  {
   "cell_type": "code",
   "execution_count": 63,
   "id": "880893e8",
   "metadata": {},
   "outputs": [
    {
     "data": {
      "text/plain": [
       "0.8457686529794692"
      ]
     },
     "execution_count": 63,
     "metadata": {},
     "output_type": "execute_result"
    }
   ],
   "source": [
    "accuracy_score(ytest,y_pred_rf_ng)"
   ]
  },
  {
   "cell_type": "code",
   "execution_count": 64,
   "id": "69172c4c",
   "metadata": {},
   "outputs": [],
   "source": [
    "cv_ng=CountVectorizer(ngram_range=(1,3),max_features=10000)\n",
    "\n",
    "X_train_bow_ng = cv_ng.fit_transform(Xtrain['review']).toarray()\n",
    "X_test_bow_ng = cv_ng.transform(Xtest['review']).toarray()\n",
    "\n",
    "rf_ng=RandomForestClassifier()\n",
    "\n",
    "rf_ng.fit(X_train_bow_ng,ytrain)\n",
    "\n",
    "y_pred_rf_ng=rf_ng.predict(X_test_bow_ng)"
   ]
  },
  {
   "cell_type": "code",
   "execution_count": 65,
   "id": "097434c7",
   "metadata": {},
   "outputs": [
    {
     "data": {
      "text/plain": [
       "0.8402603905858789"
      ]
     },
     "execution_count": 65,
     "metadata": {},
     "output_type": "execute_result"
    }
   ],
   "source": [
    "accuracy_score(ytest,y_pred_rf_ng)"
   ]
  },
  {
   "cell_type": "markdown",
   "id": "21d73e72",
   "metadata": {},
   "source": [
    "##### Random Forest on Tfidf "
   ]
  },
  {
   "cell_type": "code",
   "execution_count": 66,
   "id": "35b5bca3",
   "metadata": {},
   "outputs": [],
   "source": [
    "from sklearn.feature_extraction.text import TfidfVectorizer"
   ]
  },
  {
   "cell_type": "code",
   "execution_count": 67,
   "id": "0fe6ece8",
   "metadata": {},
   "outputs": [],
   "source": [
    "tfidf=TfidfVectorizer()"
   ]
  },
  {
   "cell_type": "code",
   "execution_count": 68,
   "id": "0e402aa3",
   "metadata": {},
   "outputs": [],
   "source": [
    "X_train_tfidf = tfidf.fit_transform(Xtrain['review']).toarray()\n",
    "X_test_tfidf = tfidf.transform(Xtest['review']).toarray()"
   ]
  },
  {
   "cell_type": "code",
   "execution_count": 69,
   "id": "ae9d5f78",
   "metadata": {},
   "outputs": [],
   "source": [
    "rf_tfidf=RandomForestClassifier()\n",
    "\n",
    "rf_tfidf.fit(X_train_tfidf,ytrain)\n",
    "\n",
    "y_pred_tfidf=rf_tfidf.predict(X_test_tfidf)"
   ]
  },
  {
   "cell_type": "code",
   "execution_count": 70,
   "id": "9907a358",
   "metadata": {},
   "outputs": [
    {
     "data": {
      "text/plain": [
       "0.8392588883324987"
      ]
     },
     "execution_count": 70,
     "metadata": {},
     "output_type": "execute_result"
    }
   ],
   "source": [
    "accuracy_score(ytest,y_pred_tfidf)"
   ]
  },
  {
   "cell_type": "markdown",
   "id": "809676c2",
   "metadata": {},
   "source": [
    "##### Word2Vec"
   ]
  },
  {
   "cell_type": "code",
   "execution_count": 71,
   "id": "617307cb",
   "metadata": {},
   "outputs": [],
   "source": [
    "import gensim"
   ]
  },
  {
   "cell_type": "code",
   "execution_count": 72,
   "id": "f7459211",
   "metadata": {},
   "outputs": [],
   "source": [
    "from nltk import sent_tokenize\n",
    "from gensim.utils import simple_preprocess"
   ]
  },
  {
   "cell_type": "code",
   "execution_count": 73,
   "id": "bc366a1a",
   "metadata": {},
   "outputs": [],
   "source": [
    "story=[]\n",
    "\n",
    "for doc in temp_df['review']:\n",
    "    raw_sent=sent_tokenize(doc)\n",
    "    for sent in raw_sent:\n",
    "        story.append(simple_preprocess(sent))"
   ]
  },
  {
   "cell_type": "code",
   "execution_count": 79,
   "id": "70227bc5",
   "metadata": {},
   "outputs": [
    {
     "data": {
      "text/plain": [
       "list"
      ]
     },
     "execution_count": 79,
     "metadata": {},
     "output_type": "execute_result"
    }
   ],
   "source": [
    "type(story)"
   ]
  },
  {
   "cell_type": "code",
   "execution_count": 82,
   "id": "9df8e18a",
   "metadata": {},
   "outputs": [
    {
     "data": {
      "text/plain": [
       "['wonder',\n",
       " 'littl',\n",
       " 'product',\n",
       " 'film',\n",
       " 'techniqu',\n",
       " 'unassum',\n",
       " 'oldtimebbc',\n",
       " 'fashion',\n",
       " 'give',\n",
       " 'comfort',\n",
       " 'sometim',\n",
       " 'discomfort',\n",
       " 'sens',\n",
       " 'realism',\n",
       " 'entir',\n",
       " 'piec',\n",
       " 'actor',\n",
       " 'extrem',\n",
       " 'well',\n",
       " 'chosen',\n",
       " 'michael',\n",
       " 'sheen',\n",
       " 'ha',\n",
       " 'got',\n",
       " 'polari']"
      ]
     },
     "execution_count": 82,
     "metadata": {},
     "output_type": "execute_result"
    }
   ],
   "source": [
    "story[1][0:25]"
   ]
  },
  {
   "cell_type": "code",
   "execution_count": 83,
   "id": "bb7a4ccb",
   "metadata": {},
   "outputs": [],
   "source": [
    "model = gensim.models.Word2Vec (window=10, min_count=2)\n"
   ]
  },
  {
   "cell_type": "code",
   "execution_count": 84,
   "id": "1e78fc05",
   "metadata": {},
   "outputs": [
    {
     "data": {
      "text/plain": [
       "<gensim.models.word2vec.Word2Vec at 0x220fb0dd910>"
      ]
     },
     "execution_count": 84,
     "metadata": {},
     "output_type": "execute_result"
    }
   ],
   "source": [
    "model"
   ]
  },
  {
   "cell_type": "code",
   "execution_count": 85,
   "id": "a9d5faf2",
   "metadata": {},
   "outputs": [],
   "source": [
    "model.build_vocab(story)"
   ]
  },
  {
   "cell_type": "code",
   "execution_count": 86,
   "id": "b2df38d5",
   "metadata": {},
   "outputs": [
    {
     "data": {
      "text/plain": [
       "(5536204, 6021045)"
      ]
     },
     "execution_count": 86,
     "metadata": {},
     "output_type": "execute_result"
    }
   ],
   "source": [
    "model.train(story, total_examples=model.corpus_count,epochs=model.epochs)"
   ]
  },
  {
   "cell_type": "code",
   "execution_count": 87,
   "id": "041b2e2b",
   "metadata": {},
   "outputs": [
    {
     "data": {
      "text/plain": [
       "24859"
      ]
     },
     "execution_count": 87,
     "metadata": {},
     "output_type": "execute_result"
    }
   ],
   "source": [
    "len(model.wv.index_to_key)"
   ]
  },
  {
   "cell_type": "code",
   "execution_count": 88,
   "id": "6b053ba2",
   "metadata": {},
   "outputs": [],
   "source": [
    "# till this point we have build the model (word2vec) for words. Now..going to create the same for documents i.e. reviews"
   ]
  },
  {
   "cell_type": "code",
   "execution_count": 89,
   "id": "660c26dd",
   "metadata": {},
   "outputs": [],
   "source": [
    "def document_vector(doc):\n",
    "    # remove out of vocab words\n",
    "    doc = [word for word in doc.split() if word in model.wv.index_to_key]\n",
    "    return np.mean(model.wv[doc],axis=0)"
   ]
  },
  {
   "cell_type": "code",
   "execution_count": 90,
   "id": "48c49401",
   "metadata": {},
   "outputs": [
    {
     "data": {
      "text/plain": [
       "array([-0.0815183 ,  0.14416261,  0.05117353,  0.03797391, -0.07799187,\n",
       "       -0.45903867,  0.18225962,  0.6597433 , -0.21553531, -0.22197503,\n",
       "        0.06272431, -0.30053288,  0.1005296 ,  0.08143651, -0.07159852,\n",
       "       -0.04859932,  0.23424986, -0.4784025 ,  0.08534189, -0.7878843 ,\n",
       "        0.19749102,  0.11886481,  0.18074664, -0.263865  , -0.14758374,\n",
       "        0.13599564, -0.27858227, -0.31101984, -0.37387475, -0.04637045,\n",
       "        0.42154342,  0.1874511 ,  0.31900817, -0.25023562, -0.10483135,\n",
       "        0.3275052 ,  0.09927113, -0.44399506, -0.47762126, -0.47214597,\n",
       "       -0.01095425, -0.30543667, -0.17200471, -0.09535902,  0.28363758,\n",
       "       -0.38837352, -0.23604013, -0.19594686,  0.29105866,  0.37905523,\n",
       "        0.02924929, -0.07195818, -0.20020859,  0.23572233, -0.1610906 ,\n",
       "        0.04431829,  0.3355745 , -0.2494797 , -0.24137768,  0.17650522,\n",
       "        0.06844756,  0.17256229, -0.08213758,  0.06077481, -0.35259992,\n",
       "        0.33102673, -0.06677912,  0.21279505, -0.47790873,  0.24654627,\n",
       "       -0.05349418,  0.07479713,  0.2683549 ,  0.04386944,  0.36860138,\n",
       "        0.05185743,  0.33295906, -0.08090663, -0.3445924 ,  0.16178723,\n",
       "       -0.07823738, -0.11318567, -0.20354155,  0.6118919 , -0.30520383,\n",
       "       -0.07393449,  0.23774925,  0.4058962 ,  0.5652319 ,  0.20176241,\n",
       "        0.6106532 ,  0.20137283,  0.16945204,  0.34334287,  0.6173045 ,\n",
       "        0.41922358,  0.07715213, -0.29775167,  0.09340988,  0.03220674],\n",
       "      dtype=float32)"
      ]
     },
     "execution_count": 90,
     "metadata": {},
     "output_type": "execute_result"
    }
   ],
   "source": [
    "document_vector(temp_df['review'].values[0])"
   ]
  },
  {
   "cell_type": "code",
   "execution_count": 91,
   "id": "cdde1e22",
   "metadata": {},
   "outputs": [],
   "source": [
    "from tqdm import tqdm"
   ]
  },
  {
   "cell_type": "code",
   "execution_count": 92,
   "id": "c399d2c4",
   "metadata": {},
   "outputs": [
    {
     "name": "stderr",
     "output_type": "stream",
     "text": [
      "100%|██████████| 9983/9983 [01:24<00:00, 118.57it/s]\n"
     ]
    }
   ],
   "source": [
    "W2V =[]\n",
    "\n",
    "for doc in tqdm(temp_df['review'].values):\n",
    "    W2V.append(document_vector(doc))\n"
   ]
  },
  {
   "cell_type": "code",
   "execution_count": 93,
   "id": "088d999f",
   "metadata": {},
   "outputs": [],
   "source": [
    "W=np.array(W2V)"
   ]
  },
  {
   "cell_type": "code",
   "execution_count": 94,
   "id": "ddc3d54c",
   "metadata": {},
   "outputs": [
    {
     "data": {
      "text/plain": [
       "array([-0.00879618,  0.16706415,  0.0202668 ,  0.0855204 ,  0.12787083,\n",
       "       -0.61515415,  0.17188329,  0.4050233 , -0.48949823, -0.38317066,\n",
       "       -0.3526686 , -0.5007181 , -0.05572539,  0.22550002,  0.22345851,\n",
       "        0.02014802, -0.10950403, -0.39202967,  0.15054236, -0.6717477 ,\n",
       "        0.17805468,  0.47067466,  0.36940545, -0.23348634,  0.25974807,\n",
       "        0.33098018, -0.29859778, -0.14436191, -0.32274726,  0.20759252,\n",
       "        0.51604074, -0.36775738,  0.32897803, -0.6359153 , -0.30911443,\n",
       "        0.8224128 ,  0.25645956, -0.5206217 , -0.41101438, -0.53797966,\n",
       "        0.15332063, -0.44316438, -0.07606869,  0.06427266, -0.03067522,\n",
       "       -0.19370286, -0.5115933 , -0.17613298,  0.16680253,  0.16106573,\n",
       "        0.31394276, -0.7022678 , -0.19111091,  0.00305641, -0.11256406,\n",
       "        0.3114143 ,  0.2653072 , -0.20560558, -0.00959505,  0.09668474,\n",
       "        0.13367745, -0.03316668,  0.06281686, -0.04503524, -0.47992134,\n",
       "        0.3416583 ,  0.3335183 ,  0.21273458, -0.7408891 ,  0.3920615 ,\n",
       "       -0.1175329 ,  0.38760212,  0.22073108, -0.33417678,  0.4088885 ,\n",
       "        0.19305147, -0.03237661,  0.0183832 , -0.35500985,  0.18847246,\n",
       "       -0.32483235, -0.24905993, -0.36882937,  0.39738828, -0.24070475,\n",
       "        0.03519771,  0.22160499,  0.31151444,  0.52445877, -0.03603424,\n",
       "        0.6996897 ,  0.39283258, -0.18393943, -0.02040407,  0.5766772 ,\n",
       "        0.2384178 ,  0.06647553, -0.26353517,  0.0514654 , -0.15527198],\n",
       "      dtype=float32)"
      ]
     },
     "execution_count": 94,
     "metadata": {},
     "output_type": "execute_result"
    }
   ],
   "source": [
    "W[1]"
   ]
  },
  {
   "cell_type": "code",
   "execution_count": 95,
   "id": "c5d7ba83",
   "metadata": {},
   "outputs": [
    {
     "data": {
      "text/plain": [
       "(9983, 100)"
      ]
     },
     "execution_count": 95,
     "metadata": {},
     "output_type": "execute_result"
    }
   ],
   "source": [
    "W.shape"
   ]
  },
  {
   "cell_type": "code",
   "execution_count": 96,
   "id": "a1fda332",
   "metadata": {},
   "outputs": [],
   "source": [
    "from sklearn.preprocessing import LabelEncoder\n",
    "\n",
    "encoder=LabelEncoder()\n",
    "\n",
    "V=encoder.fit_transform(temp_y)"
   ]
  },
  {
   "cell_type": "code",
   "execution_count": 97,
   "id": "9c9c70b9",
   "metadata": {},
   "outputs": [
    {
     "data": {
      "text/plain": [
       "array([1, 1, 1, ..., 0, 0, 1], dtype=int64)"
      ]
     },
     "execution_count": 97,
     "metadata": {},
     "output_type": "execute_result"
    }
   ],
   "source": [
    "V"
   ]
  },
  {
   "cell_type": "code",
   "execution_count": 98,
   "id": "70b1dc5a",
   "metadata": {},
   "outputs": [],
   "source": [
    "from sklearn.model_selection import train_test_split\n",
    "Xtrain, Xtest,ytrain, ytest=train_test_split(W,V, test_size=0.2, random_state=1)"
   ]
  },
  {
   "cell_type": "code",
   "execution_count": 99,
   "id": "f70fd59a",
   "metadata": {},
   "outputs": [],
   "source": [
    "rf_w2v=RandomForestClassifier()"
   ]
  },
  {
   "cell_type": "code",
   "execution_count": 100,
   "id": "a8beec72",
   "metadata": {},
   "outputs": [],
   "source": [
    "rf_w2v.fit(Xtrain,ytrain)\n",
    "\n",
    "y_pred_w2vf=rf_w2v.predict(Xtest)"
   ]
  },
  {
   "cell_type": "code",
   "execution_count": 101,
   "id": "d1b55032",
   "metadata": {},
   "outputs": [
    {
     "data": {
      "text/plain": [
       "0.8162243365047571"
      ]
     },
     "execution_count": 101,
     "metadata": {},
     "output_type": "execute_result"
    }
   ],
   "source": [
    "accuracy_score(ytest, y_pred_w2vf)"
   ]
  },
  {
   "cell_type": "code",
   "execution_count": 102,
   "id": "f23e745c",
   "metadata": {},
   "outputs": [
    {
     "data": {
      "text/plain": [
       "array([1, 1, 1, 1, 1, 0], dtype=int64)"
      ]
     },
     "execution_count": 102,
     "metadata": {},
     "output_type": "execute_result"
    }
   ],
   "source": [
    "y_pred_w2vf[[0,1,13,26,32,56]]"
   ]
  },
  {
   "cell_type": "code",
   "execution_count": 103,
   "id": "044c4a1c",
   "metadata": {},
   "outputs": [
    {
     "data": {
      "text/plain": [
       "'one review mention watch 1 oz episod hook right exactli happen meth first thing struck oz brutal unflinch scene violenc set right word go trust me show faint heart timid show pull punch regard drug sex violenc hardcor classic use wordit call oz nicknam given oswald maximum secur state penitentari focus mainli emerald citi experiment section prison cell glass front face inward privaci high agenda em citi home manyaryan muslim gangsta latino christian italian irish moreso scuffl death stare dodgi deal shadi agreement never far awayi would say main appeal show due fact goe show dare forget pretti pictur paint mainstream audienc forget charm forget romanceoz mess around first episod ever saw struck nasti surreal say readi it watch more develop tast oz got accustom high level graphic violenc violenc injustic crook guard wholl sold nickel inmat wholl kill order get away it well manner middl class inmat turn prison bitch due lack street skill prison experi watch oz may becom comfort uncomfort viewingthat get touch darker side'"
      ]
     },
     "execution_count": 103,
     "metadata": {},
     "output_type": "execute_result"
    }
   ],
   "source": [
    "temp_df['review'][0]"
   ]
  },
  {
   "cell_type": "code",
   "execution_count": 104,
   "id": "74ae8329",
   "metadata": {},
   "outputs": [
    {
     "data": {
      "text/plain": [
       "'hill eye ii would expect noth more cours go oscar nomin film pure entertain lose 90 minutesth plot basic group nation guard traine find battl notori mutat hillbilli last day train desert fight back throughout whole film includ lot violenc which basic whole film blood gut constantli fli around throughout whole thing also yet anoth graphic rape scene pointlessli thrown shock audienceid give hill eye ii 4 10 pure entertain onli although even found look watch film went on began drag due fact continu tri shock audienc graphic gore occasion jump scene make sure audienc stay awak hill eye ii decent entertain someth pass time bore noth else410'"
      ]
     },
     "execution_count": 104,
     "metadata": {},
     "output_type": "execute_result"
    }
   ],
   "source": [
    "temp_df['review'][56]"
   ]
  },
  {
   "cell_type": "code",
   "execution_count": null,
   "id": "d6515624",
   "metadata": {},
   "outputs": [],
   "source": []
  },
  {
   "cell_type": "code",
   "execution_count": null,
   "id": "85a8114b",
   "metadata": {},
   "outputs": [],
   "source": []
  }
 ],
 "metadata": {
  "kernelspec": {
   "display_name": "Python 3 (ipykernel)",
   "language": "python",
   "name": "python3"
  },
  "language_info": {
   "codemirror_mode": {
    "name": "ipython",
    "version": 3
   },
   "file_extension": ".py",
   "mimetype": "text/x-python",
   "name": "python",
   "nbconvert_exporter": "python",
   "pygments_lexer": "ipython3",
   "version": "3.11.5"
  }
 },
 "nbformat": 4,
 "nbformat_minor": 5
}
